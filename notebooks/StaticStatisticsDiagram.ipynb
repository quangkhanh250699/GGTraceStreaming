{
 "cells": [
  {
   "cell_type": "markdown",
   "metadata": {
    "toc": true
   },
   "source": [
    "<h1>Table of Contents<span class=\"tocSkip\"></span></h1>\n",
    "<div class=\"toc\"><ul class=\"toc-item\"></ul></div>"
   ]
  },
  {
   "cell_type": "code",
   "execution_count": 1,
   "metadata": {},
   "outputs": [],
   "source": [
    "import pandas as pd \n",
    "import os \n",
    "import matplotlib.pyplot as plt\n",
    "import seaborn as sns\n",
    "%matplotlib inline"
   ]
  },
  {
   "cell_type": "code",
   "execution_count": 33,
   "metadata": {},
   "outputs": [],
   "source": [
    "cols = ['time', 'missing_info', 'job_id', 'task_index', 'machine_id',\n",
    "       'event_type', 'user', 'scheduling_class', 'priority', 'cpu_request',\n",
    "       'memory_request', 'disk_space_request',\n",
    "       'different_machine_restriction']"
   ]
  },
  {
   "cell_type": "code",
   "execution_count": 34,
   "metadata": {
    "scrolled": true
   },
   "outputs": [
    {
     "data": {
      "text/plain": [
       "['part-00001-of-00500.csv',\n",
       " 'part-00002-of-00500.csv',\n",
       " 'part-00003-of-00500.csv',\n",
       " 'part-00000-of-00500.csv',\n",
       " 'part-00008-of-00500.csv',\n",
       " 'part-00004-of-00500.csv',\n",
       " 'part-00007-of-00500.csv',\n",
       " 'part-00006-of-00500.csv',\n",
       " 'part-00005-of-00500.csv']"
      ]
     },
     "execution_count": 34,
     "metadata": {},
     "output_type": "execute_result"
    }
   ],
   "source": [
    "os.listdir(\"/media/quangkhanh/E/google_data/clusterdata-2011-2/task_events/\")"
   ]
  },
  {
   "cell_type": "code",
   "execution_count": 35,
   "metadata": {},
   "outputs": [],
   "source": [
    "rate = {}\n",
    "task_event_root = \"/media/quangkhanh/E/google_data/clusterdata-2011-2/task_events/\"\n",
    "for task_event_path in os.listdir(task_event_root):\n",
    "    task_event = pd.read_csv(os.path.join(task_event_root, task_event_path))\n",
    "    task_event.columns = cols\n",
    "    interval = (task_event.time.max() - task_event.time.min()) / 1000000\n",
    "    comming_rate = task_event.shape[0] / interval\n",
    "    rate[task_event_path[5:10]] = comming_rate"
   ]
  },
  {
   "cell_type": "code",
   "execution_count": 41,
   "metadata": {},
   "outputs": [
    {
     "name": "stdout",
     "output_type": "stream",
     "text": [
      "<class 'pandas.core.frame.DataFrame'>\n",
      "RangeIndex: 167470 entries, 0 to 167469\n",
      "Data columns (total 13 columns):\n",
      " #   Column                         Non-Null Count   Dtype  \n",
      "---  ------                         --------------   -----  \n",
      " 0   time                           167470 non-null  int64  \n",
      " 1   missing_info                   0 non-null       float64\n",
      " 2   job_id                         167470 non-null  int64  \n",
      " 3   task_index                     167470 non-null  int64  \n",
      " 4   machine_id                     95973 non-null   float64\n",
      " 5   event_type                     167470 non-null  int64  \n",
      " 6   user                           167470 non-null  object \n",
      " 7   scheduling_class               167470 non-null  int64  \n",
      " 8   priority                       167470 non-null  int64  \n",
      " 9   cpu_request                    167470 non-null  float64\n",
      " 10  memory_request                 167470 non-null  float64\n",
      " 11  disk_space_request             167470 non-null  float64\n",
      " 12  different_machine_restriction  167470 non-null  int64  \n",
      "dtypes: float64(5), int64(7), object(1)\n",
      "memory usage: 16.6+ MB\n"
     ]
    }
   ],
   "source": [
    "task_event.info()"
   ]
  },
  {
   "cell_type": "code",
   "execution_count": 82,
   "metadata": {},
   "outputs": [
    {
     "data": {
      "text/plain": [
       "00001    15.522206\n",
       "00002    34.047785\n",
       "00003    23.033342\n",
       "00008    26.492498\n",
       "00004    23.067898\n",
       "00007    37.589733\n",
       "00006    30.736422\n",
       "00005    33.425493\n",
       "Name: rate, dtype: float64"
      ]
     },
     "execution_count": 82,
     "metadata": {},
     "output_type": "execute_result"
    }
   ],
   "source": [
    "rate = pd.Series(rate,name=\"rate\").drop(\"00000\")\n",
    "rate"
   ]
  },
  {
   "cell_type": "code",
   "execution_count": 85,
   "metadata": {},
   "outputs": [
    {
     "data": {
      "text/plain": [
       "27.989422228262928"
      ]
     },
     "execution_count": 85,
     "metadata": {},
     "output_type": "execute_result"
    },
    {
     "data": {
      "image/png": "[encoded data removed]",
      "text/plain": [
       "<Figure size 432x288 with 1 Axes>"
      ]
     },
     "metadata": {
      "needs_background": "light"
     },
     "output_type": "display_data"
    }
   ],
   "source": [
    "plt.figure()\n",
    "sns.barplot(x=rate.index, y=rate)\n",
    "plt.title(\"Comming task rate\")\n",
    "rate.mean()"
   ]
  },
  {
   "cell_type": "code",
   "execution_count": 2,
   "metadata": {},
   "outputs": [],
   "source": [
    "machine_event_path = \"/media/quangkhanh/E/google_data/clusterdata-2011-2/machine_events/part-00000-of-00001.csv\""
   ]
  },
  {
   "cell_type": "code",
   "execution_count": 4,
   "metadata": {},
   "outputs": [
    {
     "name": "stdout",
     "output_type": "stream",
     "text": [
      "<class 'pandas.core.frame.DataFrame'>\n",
      "RangeIndex: 37780 entries, 0 to 37779\n",
      "Data columns (total 6 columns):\n",
      " #   Column       Non-Null Count  Dtype  \n",
      "---  ------       --------------  -----  \n",
      " 0   time         37780 non-null  int64  \n",
      " 1   machine_id   37780 non-null  int64  \n",
      " 2   event_type   37780 non-null  int64  \n",
      " 3   platform_id  37780 non-null  object \n",
      " 4   cpus         37748 non-null  float64\n",
      " 5   memory       37748 non-null  float64\n",
      "dtypes: float64(2), int64(3), object(1)\n",
      "memory usage: 1.7+ MB\n"
     ]
    }
   ],
   "source": [
    "machine_event = pd.read_csv(machine_event_path)\n",
    "machine_event.info()"
   ]
  },
  {
   "cell_type": "code",
   "execution_count": 5,
   "metadata": {},
   "outputs": [],
   "source": [
    "machine_event = machine_event[[\"machine_id\", \"cpus\", \"memory\"]]\n",
    "machine_attri = machine_event.groupby(\"machine_id\").max()"
   ]
  },
  {
   "cell_type": "code",
   "execution_count": 6,
   "metadata": {},
   "outputs": [
    {
     "data": {
      "text/html": [
       "<div>\n",
       "<style scoped>\n",
       "    .dataframe tbody tr th:only-of-type {\n",
       "        vertical-align: middle;\n",
       "    }\n",
       "\n",
       "    .dataframe tbody tr th {\n",
       "        vertical-align: top;\n",
       "    }\n",
       "\n",
       "    .dataframe thead th {\n",
       "        text-align: right;\n",
       "    }\n",
       "</style>\n",
       "<table border=\"1\" class=\"dataframe\">\n",
       "  <thead>\n",
       "    <tr style=\"text-align: right;\">\n",
       "      <th></th>\n",
       "      <th>cpus</th>\n",
       "      <th>memory</th>\n",
       "    </tr>\n",
       "  </thead>\n",
       "  <tbody>\n",
       "    <tr>\n",
       "      <th>count</th>\n",
       "      <td>12583.000000</td>\n",
       "      <td>12583.000000</td>\n",
       "    </tr>\n",
       "    <tr>\n",
       "      <th>mean</th>\n",
       "      <td>0.529206</td>\n",
       "      <td>0.470091</td>\n",
       "    </tr>\n",
       "    <tr>\n",
       "      <th>std</th>\n",
       "      <td>0.125015</td>\n",
       "      <td>0.201338</td>\n",
       "    </tr>\n",
       "    <tr>\n",
       "      <th>min</th>\n",
       "      <td>0.250000</td>\n",
       "      <td>0.030850</td>\n",
       "    </tr>\n",
       "    <tr>\n",
       "      <th>25%</th>\n",
       "      <td>0.500000</td>\n",
       "      <td>0.249300</td>\n",
       "    </tr>\n",
       "    <tr>\n",
       "      <th>50%</th>\n",
       "      <td>0.500000</td>\n",
       "      <td>0.499500</td>\n",
       "    </tr>\n",
       "    <tr>\n",
       "      <th>75%</th>\n",
       "      <td>0.500000</td>\n",
       "      <td>0.499500</td>\n",
       "    </tr>\n",
       "    <tr>\n",
       "      <th>max</th>\n",
       "      <td>1.000000</td>\n",
       "      <td>1.000000</td>\n",
       "    </tr>\n",
       "  </tbody>\n",
       "</table>\n",
       "</div>"
      ],
      "text/plain": [
       "               cpus        memory\n",
       "count  12583.000000  12583.000000\n",
       "mean       0.529206      0.470091\n",
       "std        0.125015      0.201338\n",
       "min        0.250000      0.030850\n",
       "25%        0.500000      0.249300\n",
       "50%        0.500000      0.499500\n",
       "75%        0.500000      0.499500\n",
       "max        1.000000      1.000000"
      ]
     },
     "execution_count": 6,
     "metadata": {},
     "output_type": "execute_result"
    }
   ],
   "source": [
    "machine_attri.describe()"
   ]
  },
  {
   "cell_type": "code",
   "execution_count": 7,
   "metadata": {},
   "outputs": [
    {
     "data": {
      "text/plain": [
       "<AxesSubplot:ylabel='cpus'>"
      ]
     },
     "execution_count": 7,
     "metadata": {},
     "output_type": "execute_result"
    },
    {
     "data": {
      "image/png": "[encoded data removed]",
      "text/plain": [
       "<Figure size 432x288 with 1 Axes>"
      ]
     },
     "metadata": {},
     "output_type": "display_data"
    }
   ],
   "source": [
    "machine_attri.cpus.value_counts().plot.pie(autopct=\"%.1f%%\")"
   ]
  },
  {
   "cell_type": "code",
   "execution_count": 8,
   "metadata": {},
   "outputs": [],
   "source": [
    "machine_memory = machine_attri.memory.value_counts()[machine_attri.memory.value_counts() > 100]"
   ]
  },
  {
   "cell_type": "code",
   "execution_count": 9,
   "metadata": {},
   "outputs": [
    {
     "data": {
      "text/plain": [
       "<AxesSubplot:ylabel='memory'>"
      ]
     },
     "execution_count": 9,
     "metadata": {},
     "output_type": "execute_result"
    },
    {
     "data": {
      "image/png": "[encoded data removed]",
      "text/plain": [
       "<Figure size 432x288 with 1 Axes>"
      ]
     },
     "metadata": {},
     "output_type": "display_data"
    }
   ],
   "source": [
    "machine_memory.plot.pie(autopct=\"%.1f%%\")"
   ]
  },
  {
   "cell_type": "code",
   "execution_count": null,
   "metadata": {},
   "outputs": [],
   "source": [
    "machine_attri.cpus.value_counts().plot.pie(autopct=\"%.1f%%\")\n",
    "machine_memory.plot.pie(autopct=\"%.1f%%\")"
   ]
  },
  {
   "cell_type": "code",
   "execution_count": 10,
   "metadata": {},
   "outputs": [],
   "source": [
    "cpu_machine = machine_attri.cpus.value_counts()"
   ]
  },
  {
   "cell_type": "code",
   "execution_count": 14,
   "metadata": {},
   "outputs": [
    {
     "data": {
      "text/plain": [
       "Float64Index([0.5, 1.0, 0.25], dtype='float64')"
      ]
     },
     "execution_count": 14,
     "metadata": {},
     "output_type": "execute_result"
    }
   ],
   "source": [
    "cpu_machine.keys()"
   ]
  },
  {
   "cell_type": "code",
   "execution_count": 31,
   "metadata": {},
   "outputs": [
    {
     "data": {
      "image/png": "[encoded data removed]",
      "text/plain": [
       "<Figure size 720x432 with 2 Axes>"
      ]
     },
     "metadata": {},
     "output_type": "display_data"
    }
   ],
   "source": [
    "fig, (ax1, ax2) = plt.subplots(1, 2, figsize=[10,6])\n",
    "ax1.pie(x=cpu_machine, autopct=\"%.1f%%\", explode=[0.2]*len(cpu_machine), labels=cpu_machine.keys(), pctdistance=0.5)\n",
    "ax1.set_title(\"cpu distribution\")\n",
    "ax2.pie(x=machine_memory, autopct=\"%.1f%%\", explode=[0.05]*len(machine_memory), labels=machine_memory.keys(), pctdistance=0.5)\n",
    "ax2.set_title(\"memory distribution\")\n",
    "plt.show()"
   ]
  }
 ],
 "metadata": {
  "kernelspec": {
   "display_name": "Python 3",
   "language": "python",
   "name": "python3"
  },
  "language_info": {
   "codemirror_mode": {
    "name": "ipython",
    "version": 3
   },
   "file_extension": ".py",
   "mimetype": "text/x-python",
   "name": "python",
   "nbconvert_exporter": "python",
   "pygments_lexer": "ipython3",
   "version": "3.7.9"
  },
  "toc": {
   "base_numbering": 1,
   "nav_menu": {},
   "number_sections": true,
   "sideBar": true,
   "skip_h1_title": false,
   "title_cell": "Table of Contents",
   "title_sidebar": "Contents",
   "toc_cell": true,
   "toc_position": {},
   "toc_section_display": true,
   "toc_window_display": false
  }
 },
 "nbformat": 4,
 "nbformat_minor": 4
}
