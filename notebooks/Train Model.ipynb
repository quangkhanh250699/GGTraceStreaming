{
 "cells": [
  {
   "cell_type": "markdown",
   "metadata": {
    "toc": true
   },
   "source": [
    "<h1>Table of Contents<span class=\"tocSkip\"></span></h1>\n",
    "<div class=\"toc\"><ul class=\"toc-item\"></ul></div>"
   ]
  },
  {
   "cell_type": "code",
   "execution_count": 2,
   "metadata": {},
   "outputs": [],
   "source": [
    "from pyspark.sql import SparkSession \n",
    "from pyspark.sql.functions import col, udf, split, mean\n",
    "from pyspark.sql import Row, DataFrame"
   ]
  },
  {
   "cell_type": "code",
   "execution_count": 3,
   "metadata": {},
   "outputs": [
    {
     "data": {
      "text/html": [
       "\n",
       "            <div>\n",
       "                <p><b>SparkSession - in-memory</b></p>\n",
       "                \n",
       "        <div>\n",
       "            <p><b>SparkContext</b></p>\n",
       "\n",
       "            <p><a href=\"http://192.168.1.4:4040\">Spark UI</a></p>\n",
       "\n",
       "            <dl>\n",
       "              <dt>Version</dt>\n",
       "                <dd><code>v3.0.1</code></dd>\n",
       "              <dt>Master</dt>\n",
       "                <dd><code>local</code></dd>\n",
       "              <dt>AppName</dt>\n",
       "                <dd><code>sparkTest</code></dd>\n",
       "            </dl>\n",
       "        </div>\n",
       "        \n",
       "            </div>\n",
       "        "
      ],
      "text/plain": [
       "<pyspark.sql.session.SparkSession at 0x7fa67d1b0e10>"
      ]
     },
     "execution_count": 3,
     "metadata": {},
     "output_type": "execute_result"
    }
   ],
   "source": [
    "packages = [\"org.apache.spark:spark-streaming-kafka-0-10_2.12:3.0.1\",\n",
    "            \"org.apache.spark:spark-sql-kafka-0-10_2.12:3.0.1\"]\n",
    "packages = \",\".join(packages)\n",
    "\n",
    "# master = \"spark://localhost:7077\"\n",
    "master = \"local\"\n",
    "appName = \"sparkTest\"\n",
    "\n",
    "spark = SparkSession.builder \\\n",
    "                    .master(master) \\\n",
    "                    .appName(appName) \\\n",
    "                    .config(\"spark.jars.packages\", packages) \\\n",
    "                    .getOrCreate()\n",
    "\n",
    "spark"
   ]
  },
  {
   "cell_type": "code",
   "execution_count": 7,
   "metadata": {},
   "outputs": [],
   "source": [
    "df = spark.read.option(\"header\", \"false\").csv(\"hdfs://localhost:8020/data/task-event/\").coalesce(2)"
   ]
  },
  {
   "cell_type": "code",
   "execution_count": 8,
   "metadata": {},
   "outputs": [
    {
     "data": {
      "text/plain": [
       "1"
      ]
     },
     "execution_count": 8,
     "metadata": {},
     "output_type": "execute_result"
    }
   ],
   "source": [
    "df.rdd.getNumPartitions()"
   ]
  },
  {
   "cell_type": "code",
   "execution_count": 4,
   "metadata": {
    "scrolled": true
   },
   "outputs": [
    {
     "name": "stdout",
     "output_type": "stream",
     "text": [
      "+-----+---+----+----------+---+------------+---+--------------------+---+---+-------------------+--------------------+--------------------+----+\n",
      "|  _c0|_c1| _c2|       _c3|_c4|         _c5|_c6|                 _c7|_c8|_c9|               _c10|                _c11|                _c12|_c13|\n",
      "+-----+---+----+----------+---+------------+---+--------------------+---+---+-------------------+--------------------+--------------------+----+\n",
      "|10001|  0|null|3995607423|  3| 277452021.0|  0|01B/AOjE02qBWt8Yt...|  3|  9|0.19098993179863832| 0.19226796349329808| 0.06557736526267273| 0.0|\n",
      "|10002|  0|null|3995607423|  4| 295000406.0|  0|01B/AOjE02qBWt8Yt...|  3|  9|0.18603381258694826| 0.09623108741740324| 0.18404858803890933| 0.0|\n",
      "|10003|  0|null|3995607423|  5|3631105600.0|  0|01B/AOjE02qBWt8Yt...|  3|  9|0.14115545094812493|  0.1195550166641077|0.004743031960290524| 0.0|\n",
      "|10004|  0|null|3995607423|  6| 294816869.0|  0|01B/AOjE02qBWt8Yt...|  3|  9|0.13896200897900945|  0.1887902584516184| 0.12812054525185046| 0.0|\n",
      "|10005|  0|null|3995607423|  7| 294793992.0|  0|01B/AOjE02qBWt8Yt...|  3|  9| 0.2237663967154536|0.016644939001917842| 0.11733712167925207| 0.0|\n",
      "|10006|  0|null|3995607455|  0| 351639945.0|  0|01B/AOjE02qBWt8Yt...|  3|  9|0.16561581913480533| 0.08323124269752435|  0.1589029589695551| 1.0|\n",
      "|10007|  0|null|3995607455|  1| 227419455.0|  0|01B/AOjE02qBWt8Yt...|  3|  9|  0.053900338376024| 0.17215568407292553| 0.10026306518260507| 1.0|\n",
      "|10008|  0|null|3995607455|  2|1629793515.0|  0|01B/AOjE02qBWt8Yt...|  3|  9|0.06795480724494897| 0.07968950123898251| 0.02721432340202136| 1.0|\n",
      "|10009|  0|null|3995652394|  0| 318388080.0|  0|jxsOh5hNTwsl6bJqi...|  2|  9|0.24841524430819195| 0.20674007462322588|0.041652312668814064| 0.0|\n",
      "|10010|  0|null|3995652394|  1| 318406929.0|  0|jxsOh5hNTwsl6bJqi...|  2|  9| 0.2217851823476961| 0.09303512499222534| 0.16674787861585638| 0.0|\n",
      "+-----+---+----+----------+---+------------+---+--------------------+---+---+-------------------+--------------------+--------------------+----+\n",
      "only showing top 10 rows\n",
      "\n"
     ]
    }
   ],
   "source": [
    "df.show(10)"
   ]
  },
  {
   "cell_type": "code",
   "execution_count": 167,
   "metadata": {
    "jupyter": {
     "source_hidden": true
    }
   },
   "outputs": [],
   "source": [
    "from pyspark.sql.functions import col"
   ]
  },
  {
   "cell_type": "code",
   "execution_count": 5,
   "metadata": {
    "scrolled": true
   },
   "outputs": [
    {
     "name": "stdout",
     "output_type": "stream",
     "text": [
      "+---+-------------------+-------------------+\n",
      "|_c9|               _c10|               _c11|\n",
      "+---+-------------------+-------------------+\n",
      "|  9|0.19098993179863832|0.19226796349329808|\n",
      "|  9|0.18603381258694826|0.09623108741740324|\n",
      "|  9|0.14115545094812493| 0.1195550166641077|\n",
      "+---+-------------------+-------------------+\n",
      "only showing top 3 rows\n",
      "\n"
     ]
    }
   ],
   "source": [
    "df_selected = df.select('_c9', '_c10', '_c11')\n",
    "df_selected.show(3)"
   ]
  },
  {
   "cell_type": "code",
   "execution_count": 6,
   "metadata": {},
   "outputs": [],
   "source": [
    "from pyspark.sql.types import DoubleType\n",
    "from pyspark.sql.functions import col, when\n",
    "\n",
    "for c in df_selected.columns: \n",
    "    df_selected = df_selected.withColumn(c, col(c).cast(\"double\"))"
   ]
  },
  {
   "cell_type": "code",
   "execution_count": 7,
   "metadata": {},
   "outputs": [],
   "source": [
    "from pyspark.ml.feature import StandardScaler, VectorAssembler, Imputer\n",
    "from pyspark.ml.clustering import GaussianMixture\n",
    "from pyspark.ml import Pipeline"
   ]
  },
  {
   "cell_type": "code",
   "execution_count": 8,
   "metadata": {},
   "outputs": [],
   "source": [
    "stages = [] \n",
    "num_cols = ['_c10', '_c11']\n",
    "imputed_cols = [col + \"_imputed\" for col in num_cols]\n",
    "imputer = Imputer(inputCols=num_cols, outputCols=imputed_cols, strategy=\"mean\")\n",
    "    \n",
    "feature_cols = [col for col in imputed_cols]\n",
    "vector_assembler = VectorAssembler(inputCols=feature_cols, outputCol='features')\n",
    "gmm = GaussianMixture().setK(3).setSeed(538009335)\n",
    "stages.append(imputer)\n",
    "stages.append(vector_assembler)\n",
    "stages.append(gmm)\n",
    "\n",
    "pipeline = Pipeline(stages=stages)"
   ]
  },
  {
   "cell_type": "code",
   "execution_count": 9,
   "metadata": {},
   "outputs": [
    {
     "name": "stdout",
     "output_type": "stream",
     "text": [
      "CPU times: user 34.8 ms, sys: 1.93 ms, total: 36.7 ms\n",
      "Wall time: 20 s\n"
     ]
    }
   ],
   "source": [
    "%%time \n",
    "model = pipeline.fit(df_selected)"
   ]
  },
  {
   "cell_type": "code",
   "execution_count": 10,
   "metadata": {},
   "outputs": [
    {
     "name": "stdout",
     "output_type": "stream",
     "text": [
      "-RECORD 0---------------------------------------------------------------------\n",
      " _c9          | 9.0                                                           \n",
      " _c10         | 0.19098993179863832                                           \n",
      " _c11         | 0.19226796349329808                                           \n",
      " _c10_imputed | 0.19098993179863832                                           \n",
      " _c11_imputed | 0.19226796349329808                                           \n",
      " features     | [0.19098993179863832,0.19226796349329808]                     \n",
      " probability  | [0.021570673340295974,0.977892523210488,5.36803449215924E-4]  \n",
      " prediction   | 1                                                             \n",
      "-RECORD 1---------------------------------------------------------------------\n",
      " _c9          | 9.0                                                           \n",
      " _c10         | 0.18603381258694826                                           \n",
      " _c11         | 0.09623108741740324                                           \n",
      " _c10_imputed | 0.18603381258694826                                           \n",
      " _c11_imputed | 0.09623108741740324                                           \n",
      " features     | [0.18603381258694826,0.09623108741740324]                     \n",
      " probability  | [0.0068362643813584395,0.42152139688679563,0.571642338731846] \n",
      " prediction   | 2                                                             \n",
      "-RECORD 2---------------------------------------------------------------------\n",
      " _c9          | 9.0                                                           \n",
      " _c10         | 0.14115545094812493                                           \n",
      " _c11         | 0.1195550166641077                                            \n",
      " _c10_imputed | 0.14115545094812493                                           \n",
      " _c11_imputed | 0.1195550166641077                                            \n",
      " features     | [0.14115545094812493,0.1195550166641077]                      \n",
      " probability  | [0.17260854798074976,0.6631038224161292,0.164287629603121]    \n",
      " prediction   | 1                                                             \n",
      "only showing top 3 rows\n",
      "\n"
     ]
    }
   ],
   "source": [
    "model.transform(df_selected).show(n=3, vertical=True, truncate=False)"
   ]
  },
  {
   "cell_type": "code",
   "execution_count": 11,
   "metadata": {},
   "outputs": [],
   "source": [
    "data = model.transform(df_selected).dropna()"
   ]
  },
  {
   "cell_type": "code",
   "execution_count": 31,
   "metadata": {},
   "outputs": [],
   "source": [
    "import pandas as pd\n",
    "import numpy as np\n",
    "import matplotlib.pyplot as plt\n",
    "import seaborn as sns\n",
    "%matplotlib inline"
   ]
  },
  {
   "cell_type": "code",
   "execution_count": 23,
   "metadata": {},
   "outputs": [],
   "source": [
    "extract_data = data.select(when(col(\"_c9\") <= 3, \"Free\").when(col(\"_c9\") <= 10, \"Production\").otherwise(\"Monitor\").alias(\"priority\"),\n",
    "                           col(\"_c10\").alias(\"cpu_request\"), \n",
    "                           col(\"_c11\").alias(\"memory_request\"), \n",
    "                           col(\"prediction\")).sample(fraction=0.05).toPandas()"
   ]
  },
  {
   "cell_type": "code",
   "execution_count": 24,
   "metadata": {},
   "outputs": [
    {
     "data": {
      "text/html": [
       "<div>\n",
       "<style scoped>\n",
       "    .dataframe tbody tr th:only-of-type {\n",
       "        vertical-align: middle;\n",
       "    }\n",
       "\n",
       "    .dataframe tbody tr th {\n",
       "        vertical-align: top;\n",
       "    }\n",
       "\n",
       "    .dataframe thead th {\n",
       "        text-align: right;\n",
       "    }\n",
       "</style>\n",
       "<table border=\"1\" class=\"dataframe\">\n",
       "  <thead>\n",
       "    <tr style=\"text-align: right;\">\n",
       "      <th></th>\n",
       "      <th>priority</th>\n",
       "      <th>cpu_request</th>\n",
       "      <th>memory_request</th>\n",
       "      <th>prediction</th>\n",
       "    </tr>\n",
       "  </thead>\n",
       "  <tbody>\n",
       "    <tr>\n",
       "      <th>0</th>\n",
       "      <td>Production</td>\n",
       "      <td>0.064346</td>\n",
       "      <td>0.184820</td>\n",
       "      <td>0</td>\n",
       "    </tr>\n",
       "    <tr>\n",
       "      <th>1</th>\n",
       "      <td>Production</td>\n",
       "      <td>0.175883</td>\n",
       "      <td>0.091919</td>\n",
       "      <td>2</td>\n",
       "    </tr>\n",
       "    <tr>\n",
       "      <th>2</th>\n",
       "      <td>Production</td>\n",
       "      <td>0.098744</td>\n",
       "      <td>0.033469</td>\n",
       "      <td>2</td>\n",
       "    </tr>\n",
       "    <tr>\n",
       "      <th>3</th>\n",
       "      <td>Production</td>\n",
       "      <td>0.115225</td>\n",
       "      <td>0.199227</td>\n",
       "      <td>0</td>\n",
       "    </tr>\n",
       "    <tr>\n",
       "      <th>4</th>\n",
       "      <td>Production</td>\n",
       "      <td>0.084125</td>\n",
       "      <td>0.119564</td>\n",
       "      <td>0</td>\n",
       "    </tr>\n",
       "  </tbody>\n",
       "</table>\n",
       "</div>"
      ],
      "text/plain": [
       "     priority  cpu_request  memory_request  prediction\n",
       "0  Production     0.064346        0.184820           0\n",
       "1  Production     0.175883        0.091919           2\n",
       "2  Production     0.098744        0.033469           2\n",
       "3  Production     0.115225        0.199227           0\n",
       "4  Production     0.084125        0.119564           0"
      ]
     },
     "execution_count": 24,
     "metadata": {},
     "output_type": "execute_result"
    }
   ],
   "source": [
    "extract_data.head()"
   ]
  },
  {
   "cell_type": "code",
   "execution_count": 25,
   "metadata": {},
   "outputs": [
    {
     "data": {
      "text/plain": [
       "GaussianMixtureModel: uid=GaussianMixture_378a6bea0a4d, k=3, numFeatures=2"
      ]
     },
     "execution_count": 25,
     "metadata": {},
     "output_type": "execute_result"
    }
   ],
   "source": [
    "gmm = model.stages[2]\n",
    "gmm"
   ]
  },
  {
   "cell_type": "code",
   "execution_count": 26,
   "metadata": {},
   "outputs": [
    {
     "data": {
      "text/plain": [
       "[array([0.08361899, 0.14673028]),\n",
       " array([0.18347778, 0.16581323]),\n",
       " array([0.16156232, 0.06420011])]"
      ]
     },
     "execution_count": 26,
     "metadata": {},
     "output_type": "execute_result"
    }
   ],
   "source": [
    "gmm_coeff = gmm.gaussiansDF.rdd.map(lambda row: (row[\"mean\"].toArray(), row[\"cov\"].toArray())).collect()\n",
    "means = [x[0] for x in gmm_coeff]\n",
    "means"
   ]
  },
  {
   "cell_type": "code",
   "execution_count": 27,
   "metadata": {},
   "outputs": [],
   "source": [
    "prediction_points = []\n",
    "for index, frame in extract_data.groupby(\"prediction\"): \n",
    "    prediction_points.append(frame.apply(lambda row: (row[\"cpu_request\"], row[\"memory_request\"]), axis=1))"
   ]
  },
  {
   "cell_type": "code",
   "execution_count": 28,
   "metadata": {},
   "outputs": [
    {
     "name": "stdout",
     "output_type": "stream",
     "text": [
      "Free\n",
      "Monitor\n",
      "Production\n"
     ]
    }
   ],
   "source": [
    "priority_points = []\n",
    "for index, frame in extract_data.groupby(\"priority\"): \n",
    "    print(index)\n",
    "    priority_points.append(frame.apply(lambda row: (row[\"cpu_request\"], row[\"memory_request\"]), axis=1))"
   ]
  },
  {
   "cell_type": "code",
   "execution_count": 29,
   "metadata": {},
   "outputs": [],
   "source": [
    "def plot_result(ax, points: pd.Series, color=\"r\", label=None): \n",
    "    x = points.map(lambda r: r[0]).values\n",
    "    y = points.map(lambda r: r[1]).values\n",
    "    \n",
    "    ax.scatter(x, y, color=color, label=label)\n",
    "    ax.legend()"
   ]
  },
  {
   "cell_type": "code",
   "execution_count": 32,
   "metadata": {},
   "outputs": [
    {
     "data": {
      "text/plain": [
       "<AxesSubplot:xlabel='priority', ylabel='count'>"
      ]
     },
     "execution_count": 32,
     "metadata": {},
     "output_type": "execute_result"
    },
    {
     "data": {
      "image/png": "[encoded data removed]",
      "text/plain": [
       "<Figure size 432x288 with 1 Axes>"
      ]
     },
     "metadata": {
      "needs_background": "light"
     },
     "output_type": "display_data"
    }
   ],
   "source": [
    "sns.countplot(data=extract_data, x=\"priority\")"
   ]
  },
  {
   "cell_type": "code",
   "execution_count": 33,
   "metadata": {},
   "outputs": [
    {
     "data": {
      "text/plain": [
       "<AxesSubplot:xlabel='prediction', ylabel='count'>"
      ]
     },
     "execution_count": 33,
     "metadata": {},
     "output_type": "execute_result"
    },
    {
     "data": {
      "image/png": "[encoded data removed]",
      "text/plain": [
       "<Figure size 432x288 with 1 Axes>"
      ]
     },
     "metadata": {
      "needs_background": "light"
     },
     "output_type": "display_data"
    }
   ],
   "source": [
    "sns.countplot(data=extract_data, x=\"prediction\")"
   ]
  },
  {
   "cell_type": "code",
   "execution_count": 34,
   "metadata": {},
   "outputs": [
    {
     "data": {
      "image/png": "[encoded data removed]",
      "text/plain": [
       "<Figure size 720x360 with 2 Axes>"
      ]
     },
     "metadata": {
      "needs_background": "light"
     },
     "output_type": "display_data"
    }
   ],
   "source": [
    "fig, (ax1, ax2) = plt.subplots(1, 2, figsize=(10, 5))\n",
    "plot_result(ax1, prediction_points[0], color=\"blue\", label=\"0\")\n",
    "plot_result(ax1, prediction_points[1], color=\"red\", label=\"1\")\n",
    "plot_result(ax1, prediction_points[2], color=\"green\", label=\"2\")\n",
    "plot_result(ax2, priority_points[0], color=\"teal\", label=\"Free\")\n",
    "plot_result(ax2, priority_points[1], color=\"yellow\", label=\"Monitor\")\n",
    "plot_result(ax2, priority_points[2], color=\"deeppink\", label=\"Production\")"
   ]
  },
  {
   "cell_type": "code",
   "execution_count": 35,
   "metadata": {},
   "outputs": [
    {
     "data": {
      "text/plain": [
       "<matplotlib.collections.PathCollection at 0x7fb93bfe9450>"
      ]
     },
     "execution_count": 35,
     "metadata": {},
     "output_type": "execute_result"
    },
    {
     "data": {
      "image/png": "[encoded data removed]",
      "text/plain": [
       "<Figure size 432x288 with 1 Axes>"
      ]
     },
     "metadata": {
      "needs_background": "light"
     },
     "output_type": "display_data"
    }
   ],
   "source": [
    "import seaborn as sns\n",
    "\n",
    "plt.figure()\n",
    "sns.kdeplot(data=extract_data, x=\"cpu_request\", y=\"memory_request\", hue=\"prediction\", fill=True)\n",
    "plt.scatter(x=[e[0] for e in means], y=[e[1] for e in means], color=\"red\")"
   ]
  },
  {
   "cell_type": "code",
   "execution_count": 36,
   "metadata": {
    "scrolled": true
   },
   "outputs": [],
   "source": [
    "model.write().overwrite().save(\"hdfs://localhost:8020/data/model/pyspark/task-event_update\")"
   ]
  },
  {
   "cell_type": "code",
   "execution_count": 38,
   "metadata": {},
   "outputs": [
    {
     "data": {
      "text/plain": [
       "PipelineModel_858bba0ac520"
      ]
     },
     "execution_count": 38,
     "metadata": {},
     "output_type": "execute_result"
    }
   ],
   "source": [
    "from pyspark.ml import PipelineModel\n",
    "m = PipelineModel.load(\"hdfs://localhost:8020/data/model/pyspark/task-event_update\")\n",
    "m"
   ]
  }
 ],
 "metadata": {
  "kernelspec": {
   "display_name": "Python 3",
   "language": "python",
   "name": "python3"
  },
  "language_info": {
   "codemirror_mode": {
    "name": "ipython",
    "version": 3
   },
   "file_extension": ".py",
   "mimetype": "text/x-python",
   "name": "python",
   "nbconvert_exporter": "python",
   "pygments_lexer": "ipython3",
   "version": "3.7.9"
  },
  "toc": {
   "base_numbering": 1,
   "nav_menu": {},
   "number_sections": true,
   "sideBar": true,
   "skip_h1_title": false,
   "title_cell": "Table of Contents",
   "title_sidebar": "Contents",
   "toc_cell": true,
   "toc_position": {},
   "toc_section_display": true,
   "toc_window_display": false
  }
 },
 "nbformat": 4,
 "nbformat_minor": 4
}
