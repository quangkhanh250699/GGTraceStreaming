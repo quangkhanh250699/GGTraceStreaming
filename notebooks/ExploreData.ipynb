{
 "cells": [
  {
   "cell_type": "markdown",
   "metadata": {
    "toc": true
   },
   "source": [
    "<h1>Table of Contents<span class=\"tocSkip\"></span></h1>\n",
    "<div class=\"toc\"><ul class=\"toc-item\"></ul></div>"
   ]
  },
  {
   "cell_type": "code",
   "execution_count": 1,
   "metadata": {},
   "outputs": [],
   "source": [
    "from pyspark.sql import SparkSession"
   ]
  },
  {
   "cell_type": "markdown",
   "metadata": {},
   "source": [
    "*Để trực quan hóa dữ liệu, ta cần cài đặt thư viện matplotlib của python*  \n",
    "Mở một terminal của jupyterlab và cài đặt matplotlib  "
   ]
  },
  {
   "cell_type": "code",
   "execution_count": 26,
   "metadata": {
    "collapsed": true,
    "jupyter": {
     "outputs_hidden": true
    }
   },
   "outputs": [
    {
     "name": "stdout",
     "output_type": "stream",
     "text": [
      "Requirement already satisfied: matplotlib in /usr/local/lib/python3.7/site-packages (3.3.3)\n",
      "Requirement already satisfied: python-dateutil>=2.1 in /usr/local/lib/python3.7/site-packages (from matplotlib) (2.8.1)\n",
      "Requirement already satisfied: pillow>=6.2.0 in /usr/local/lib/python3.7/site-packages (from matplotlib) (8.0.1)\n",
      "Requirement already satisfied: kiwisolver>=1.0.1 in /usr/local/lib/python3.7/site-packages (from matplotlib) (1.3.1)\n",
      "Requirement already satisfied: pyparsing!=2.0.4,!=2.1.2,!=2.1.6,>=2.0.3 in /usr/local/lib/python3.7/site-packages (from matplotlib) (2.4.7)\n",
      "Requirement already satisfied: numpy>=1.15 in /usr/local/lib/python3.7/site-packages (from matplotlib) (1.19.4)\n",
      "Requirement already satisfied: cycler>=0.10 in /usr/local/lib/python3.7/site-packages (from matplotlib) (0.10.0)\n",
      "Requirement already satisfied: six in /usr/local/lib/python3.7/site-packages (from cycler>=0.10->matplotlib) (1.15.0)\n",
      "Requirement already satisfied: six in /usr/local/lib/python3.7/site-packages (from cycler>=0.10->matplotlib) (1.15.0)\n"
     ]
    }
   ],
   "source": [
    "!pip install matplotlib"
   ]
  },
  {
   "cell_type": "markdown",
   "metadata": {},
   "source": [
    "Để kết nối với kafka, ta cần khai báo các dependencies tương ứng như trong hình trên.  \n",
    "\n",
    "Juputer lab là một container chạy trong môi trường docker, nên để truy cập đến spark-master, nó cần khai báo địa chỉ của spark trong môi trường docker, là spark://spark-master:7077, còn nếu notebook của ta chạy ở loalhost thì địa chỉ spark tương ứng với nó sẽ là spark://localhost:7077\n",
    "\n",
    "*Sau khi kết nối được với spark thông qua spark context, mở trang localhost:8080 sẽ thấy một job đang chạy*  "
   ]
  },
  {
   "cell_type": "code",
   "execution_count": 2,
   "metadata": {},
   "outputs": [
    {
     "data": {
      "text/html": [
       "\n",
       "            <div>\n",
       "                <p><b>SparkSession - in-memory</b></p>\n",
       "                \n",
       "        <div>\n",
       "            <p><b>SparkContext</b></p>\n",
       "\n",
       "            <p><a href=\"http://192.168.1.4:4040\">Spark UI</a></p>\n",
       "\n",
       "            <dl>\n",
       "              <dt>Version</dt>\n",
       "                <dd><code>v3.0.1</code></dd>\n",
       "              <dt>Master</dt>\n",
       "                <dd><code>local</code></dd>\n",
       "              <dt>AppName</dt>\n",
       "                <dd><code>sparkTest</code></dd>\n",
       "            </dl>\n",
       "        </div>\n",
       "        \n",
       "            </div>\n",
       "        "
      ],
      "text/plain": [
       "<pyspark.sql.session.SparkSession at 0x7f29482ef6d0>"
      ]
     },
     "execution_count": 2,
     "metadata": {},
     "output_type": "execute_result"
    }
   ],
   "source": [
    "packages = [\"org.apache.spark:spark-streaming-kafka-0-10_2.12:3.0.1\",\n",
    "            \"org.apache.spark:spark-sql-kafka-0-10_2.12:3.0.1\"]\n",
    "packages = \",\".join(packages)\n",
    "\n",
    "# master = \"spark://spark-master:7077\"\n",
    "master = \"local\"\n",
    "appName = \"sparkTest\"\n",
    "\n",
    "spark = SparkSession.builder.master(master).appName(appName).config(\"spark.jars.packages\", packages).getOrCreate()\n",
    "\n",
    "# spark = SparkSession.builder \\\n",
    "#                     .master(master) \\\n",
    "#                     .appName(appName) \\\n",
    "#                     .config(\"spark.jars.packages\", packages) \\\n",
    "#                     .config(\"spark.executor.memory\", \"1024m\") \\\n",
    "#                     .config(\"spark.executor.core\", \"1\") \\\n",
    "#                     .getOrCreate()\n",
    "\n",
    "spark"
   ]
  },
  {
   "cell_type": "markdown",
   "metadata": {},
   "source": [
    "Chạy chương trình logger trong scripts/run-logger.sh để thực hiện streaming dữ liệu (Như trong file readMe có mô tả).  \n",
    "Dùng spark để nhận dữ liệu được streaming từ kafka.  \n",
    "*Do chương trình jupyterlab của chúng ta chạy trong môi trường docker, nên các địa chỉ của kafka bootstrap server cũa phải là trong môi trường docker, tức là kafka:9093, còn nếu notebook chạy ở localhost thì địa chỉ kafka sẽ là localhost:9092*"
   ]
  },
  {
   "cell_type": "code",
   "execution_count": 3,
   "metadata": {},
   "outputs": [],
   "source": [
    "df = spark \\\n",
    "  .readStream \\\n",
    "  .format(\"kafka\") \\\n",
    "  .option(\"kafka.bootstrap.servers\", \"kafka:9093, kafka1:9093, localhost:9092\") \\\n",
    "  .option(\"subscribe\", \"TASK-EVENT\") \\\n",
    "  .option(\"startingOffsets\", \"earliest\") \\\n",
    "  .load()"
   ]
  },
  {
   "cell_type": "code",
   "execution_count": 4,
   "metadata": {},
   "outputs": [],
   "source": [
    "from pyspark.sql.functions import col, udf, split, mean\n",
    "from pyspark.sql import Row, DataFrame"
   ]
  },
  {
   "cell_type": "markdown",
   "metadata": {},
   "source": [
    "Trích xuất các thông tin cần thiết từ dữ liệu và ghi vào bộ nhớ ram ở dạng temporary table"
   ]
  },
  {
   "cell_type": "code",
   "execution_count": 5,
   "metadata": {},
   "outputs": [],
   "source": [
    "value = df.select(col(\"value\").cast(\"string\").alias(\"Value\"))\n",
    "split_col = split(col(\"Value\"), \",\")\n",
    "extract_task = value.select(split_col.getItem(0).cast(\"int\").alias('id'),\n",
    "                            split_col.getItem(5).cast(\"int\").alias(\"machineId\"),\n",
    "                            split_col.getItem(6).cast(\"int\").alias(\"eventType\"),\n",
    "                            split_col.getItem(9).cast(\"int\").alias(\"priority\"),\n",
    "                            split_col.getItem(10).cast(\"float\").alias(\"cpuRequest\"),\n",
    "                            split_col.getItem(11).cast(\"float\").alias(\"memoryRequest\"),\n",
    "                            split_col.getItem(12).cast(\"float\").alias(\"diskspaceRequest\"))\n",
    "mean_query = extract_task.select(mean(col(\"cpuRequest\")).alias(\"mean_cpu_request\"),\n",
    "                                 mean(col(\"memoryRequest\")).alias(\"mean_memory_request\"),\n",
    "                                 mean(col(\"diskspaceRequest\")).alias(\"mean_diskspace_request\")) \\\n",
    "                         .writeStream \\\n",
    "                         .format(\"memory\") \\\n",
    "                         .queryName(\"mean\") \\\n",
    "                         .outputMode(\"update\") \\\n",
    "                         .start()"
   ]
  },
  {
   "cell_type": "code",
   "execution_count": 6,
   "metadata": {},
   "outputs": [
    {
     "name": "stdout",
     "output_type": "stream",
     "text": [
      "+--------+---------+-----------+\n",
      "|database|tableName|isTemporary|\n",
      "+--------+---------+-----------+\n",
      "|        |     mean|       true|\n",
      "+--------+---------+-----------+\n",
      "\n"
     ]
    }
   ],
   "source": [
    "spark.sql(\"show tables\").show()"
   ]
  },
  {
   "cell_type": "code",
   "execution_count": 7,
   "metadata": {},
   "outputs": [],
   "source": [
    "import matplotlib.pyplot as plt\n",
    "%matplotlib inline"
   ]
  },
  {
   "cell_type": "markdown",
   "metadata": {},
   "source": [
    "Lấy dữ liệu từ query mà ta lưu vào memory rồi thực hiện visualize.  \n",
    "Chú ý, do dữ liệu dạng streaming nên khi đang streaming thì dữ liệu được visualize sẽ thay đổi, để thấy được nó thì ta thực hiện chạy lại cell của notebook (ctrl+Enter)"
   ]
  },
  {
   "cell_type": "code",
   "execution_count": 68,
   "metadata": {},
   "outputs": [
    {
     "data": {
      "text/plain": [
       "[<matplotlib.lines.Line2D at 0x7f2923ccd5d0>]"
      ]
     },
     "execution_count": 68,
     "metadata": {},
     "output_type": "execute_result"
    },
    {
     "data": {
      "image/png": "[encoded data removed]",
      "text/plain": [
       "<Figure size 432x288 with 1 Axes>"
      ]
     },
     "metadata": {
      "needs_background": "light"
     },
     "output_type": "display_data"
    }
   ],
   "source": [
    "data = spark.sql(\"select * from mean\")\n",
    "x = data.rdd.map(lambda x: x['mean_cpu_request']).collect()\n",
    "plt.plot(range(len(x[-1000:])), x[-1000:], 'x-')"
   ]
  },
  {
   "cell_type": "code",
   "execution_count": 15,
   "metadata": {},
   "outputs": [
    {
     "name": "stdout",
     "output_type": "stream",
     "text": [
      "+-------------------+-------------------+----------------------+\n",
      "|   mean_cpu_request|mean_memory_request|mean_diskspace_request|\n",
      "+-------------------+-------------------+----------------------+\n",
      "|0.16587276483042007|0.13713490579636795|   0.09993903366365593|\n",
      "+-------------------+-------------------+----------------------+\n",
      "\n"
     ]
    }
   ],
   "source": [
    "data.show()"
   ]
  },
  {
   "cell_type": "markdown",
   "metadata": {},
   "source": [
    "## Machine attributes"
   ]
  },
  {
   "cell_type": "code",
   "execution_count": 16,
   "metadata": {},
   "outputs": [],
   "source": [
    "machine_event_path = \"/media/quangkhanh/E/google_data/clusterdata-2011-2/machine_events/part-00000-of-00001.csv\""
   ]
  },
  {
   "cell_type": "code",
   "execution_count": 17,
   "metadata": {},
   "outputs": [
    {
     "name": "stdout",
     "output_type": "stream",
     "text": [
      "+----+----------+----------+--------------------+----+------+\n",
      "|time|machine_id|event_type|         platform_id|cpus|memory|\n",
      "+----+----------+----------+--------------------+----+------+\n",
      "|   0|         5|         0|HofLGzk1Or/8Ildj2...| 0.5|0.2493|\n",
      "|   0|         6|         0|HofLGzk1Or/8Ildj2...| 0.5|0.2493|\n",
      "|   0|         7|         0|HofLGzk1Or/8Ildj2...| 0.5|0.2493|\n",
      "+----+----------+----------+--------------------+----+------+\n",
      "only showing top 3 rows\n",
      "\n"
     ]
    }
   ],
   "source": [
    "machine_event = spark.read.option(\"header\", \"true\").csv(machine_event_path)\n",
    "machine_event.show(3)"
   ]
  },
  {
   "cell_type": "code",
   "execution_count": 32,
   "metadata": {},
   "outputs": [
    {
     "name": "stdout",
     "output_type": "stream",
     "text": [
      "+----------+---+------+\n",
      "|machine_id|cpu|memory|\n",
      "+----------+---+------+\n",
      "|1018836875|0.5|0.2493|\n",
      "|   1267344|0.5|0.4995|\n",
      "|   1269279|0.5|0.4995|\n",
      "|   1326698|0.5|0.4995|\n",
      "+----------+---+------+\n",
      "only showing top 4 rows\n",
      "\n"
     ]
    }
   ],
   "source": [
    "machine_attribute = machine_event.groupBy(\"machine_id\") \\\n",
    "                                    .agg(max(\"cpus\").alias(\"cpu\"),\n",
    "                                         max(\"memory\").alias(\"memory\"))\n",
    "machine_attribute.show(4)"
   ]
  },
  {
   "cell_type": "code",
   "execution_count": 18,
   "metadata": {},
   "outputs": [
    {
     "name": "stdout",
     "output_type": "stream",
     "text": [
      "root\n",
      " |-- time: string (nullable = true)\n",
      " |-- machine_id: string (nullable = true)\n",
      " |-- event_type: string (nullable = true)\n",
      " |-- platform_id: string (nullable = true)\n",
      " |-- cpus: string (nullable = true)\n",
      " |-- memory: string (nullable = true)\n",
      "\n"
     ]
    }
   ],
   "source": [
    "machine_event.printSchema()"
   ]
  },
  {
   "cell_type": "code",
   "execution_count": 19,
   "metadata": {},
   "outputs": [],
   "source": [
    "from pyspark.sql.functions import max, min, col, count, sum"
   ]
  },
  {
   "cell_type": "code",
   "execution_count": null,
   "metadata": {},
   "outputs": [],
   "source": [
    "machine_request = extract_task.select(\"cpuRequest\", \"memoryRequest\", \"machineId\") \\\n",
    "                                .groupBy(\"machineId\") \\\n",
    "                                .agg(sum(\"cpuRequest\").alias(\"cpu_request\"), sum(\"memoryRequest\").alias(\"memory_request\"))\n",
    "machine_status = machine_request.join(machine_attribute, machine_request.machineId == machine_attribute.machine_id, how=\"inner\")\n",
    "machine_status.writeStream \\\n",
    "            .format(\"memory\") \\\n",
    "            .queryName(\"machine_request\") \\\n",
    "            .outputMode(\"complete\") \\\n",
    "            .start()"
   ]
  },
  {
   "cell_type": "code",
   "execution_count": 67,
   "metadata": {},
   "outputs": [
    {
     "name": "stdout",
     "output_type": "stream",
     "text": [
      "+----------+-----------+---+\n",
      "|machine_id|cpu_request|cpu|\n",
      "+----------+-----------+---+\n",
      "| 451152936| 0.16304363|0.5|\n",
      "|1436671113|0.115835555|0.5|\n",
      "| 317468392| 0.26018032|0.5|\n",
      "+----------+-----------+---+\n",
      "only showing top 3 rows\n",
      "\n"
     ]
    }
   ],
   "source": [
    "cpu_machine = spark.sql(\"select machine_id, cast (cpu_request as float), cast(cpu as float) from machine_request\")\n",
    "cpu_machine.show(3)"
   ]
  },
  {
   "cell_type": "code",
   "execution_count": 52,
   "metadata": {},
   "outputs": [],
   "source": [
    "from pyspark.sql.functions import udf, array\n",
    "from pyspark.sql.types import IntegerType, FloatType"
   ]
  },
  {
   "cell_type": "code",
   "execution_count": 53,
   "metadata": {},
   "outputs": [],
   "source": [
    "divide_col = udf(lambda arr: arr[0] / arr[1], FloatType())"
   ]
  },
  {
   "cell_type": "code",
   "execution_count": 59,
   "metadata": {},
   "outputs": [],
   "source": [
    "cpu_request_percentage = cpu_machine.dropna().withColumn(\"%request\", divide_col(array(\"cpu_request\", \"cpu\")))"
   ]
  },
  {
   "cell_type": "code",
   "execution_count": 64,
   "metadata": {},
   "outputs": [],
   "source": [
    "import seaborn as sns"
   ]
  },
  {
   "cell_type": "code",
   "execution_count": 66,
   "metadata": {},
   "outputs": [
    {
     "data": {
      "text/plain": [
       "<AxesSubplot:>"
      ]
     },
     "execution_count": 66,
     "metadata": {},
     "output_type": "execute_result"
    },
    {
     "data": {
      "image/png": "[encoded data removed]",
      "text/plain": [
       "<Figure size 432x288 with 1 Axes>"
      ]
     },
     "metadata": {
      "needs_background": "light"
     },
     "output_type": "display_data"
    }
   ],
   "source": [
    "sns.boxplot(x=cpu_request_percentage.select(\"%request\").rdd.map(lambda x: x[0]).collect())"
   ]
  }
 ],
 "metadata": {
  "kernelspec": {
   "display_name": "Python 3",
   "language": "python",
   "name": "python3"
  },
  "language_info": {
   "codemirror_mode": {
    "name": "ipython",
    "version": 3
   },
   "file_extension": ".py",
   "mimetype": "text/x-python",
   "name": "python",
   "nbconvert_exporter": "python",
   "pygments_lexer": "ipython3",
   "version": "3.7.9"
  },
  "toc": {
   "base_numbering": 1,
   "nav_menu": {},
   "number_sections": true,
   "sideBar": true,
   "skip_h1_title": false,
   "title_cell": "Table of Contents",
   "title_sidebar": "Contents",
   "toc_cell": true,
   "toc_position": {},
   "toc_section_display": true,
   "toc_window_display": false
  }
 },
 "nbformat": 4,
 "nbformat_minor": 4
}
